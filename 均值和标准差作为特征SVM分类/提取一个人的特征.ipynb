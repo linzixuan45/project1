{
 "cells": [
  {
   "cell_type": "code",
   "execution_count": 13,
   "metadata": {
    "collapsed": true
   },
   "outputs": [],
   "source": [
    "import numpy as np\n",
    "import matplotlib.pyplot as plt\n",
    "import sklearn\n",
    "import csv\n",
    "import pandas as pd\n",
    "\n",
    "import datetime\n",
    "import time\n",
    "import os\n",
    "from sklearn.metrics.pairwise import pairwise_distances #计算坐标点距离\n",
    "from sklearn import preprocessing"
   ]
  },
  {
   "cell_type": "code",
   "execution_count": 14,
   "outputs": [],
   "source": [
    "\n",
    "\n",
    "# data = pd.read_csv(\"u001_w001/u001_w001_accelerometer.log\",delimiter=\"\\t\")\n",
    "# columns = data.columns\n",
    "# data = np.array(data)\n"
   ],
   "metadata": {
    "collapsed": false,
    "pycharm": {
     "name": "#%%\n"
    }
   }
  },
  {
   "cell_type": "markdown",
   "source": [
    "pos\n",
    "(31977, 4)\n",
    "(32273, 4)\n",
    "(52900, 4)\n",
    "(32273, 4)\n",
    "(15985, 4)\n",
    "(32273, 4)\n",
    "pos_number is already done!\n",
    "(28265, 4)\n",
    "(28520, 4)\n",
    "(46655, 4)\n",
    "(28520, 4)\n",
    "(14123, 4)\n",
    "(28520, 4)\n",
    "\n",
    "Neg\n",
    "文件中的时间不重要,顺序很重要\n",
    "\n",
    "\n"
   ],
   "metadata": {
    "collapsed": false
   }
  },
  {
   "cell_type": "code",
   "execution_count": 15,
   "outputs": [],
   "source": [
    "def stampToTime_16(stamp):\n",
    "  datatime = time.strftime(\"%Y-%m-%d %H:%M:%S\",time.localtime(float(str(stamp)[0:9])))\n",
    "  datatime = datatime+'.'+str(stamp)[9:]\n",
    "  return datatime\n",
    "\n",
    "def get_features(data):\n",
    "    \"\"\"通过计算空间中坐标点的距离来判断是否使用手机\"\"\"\n",
    "    coordinate = data[:,1:4] # 三维坐标轴\n",
    "    length = coordinate.shape[0]\n",
    "    sample_length = int(length/100)\n",
    "    '''多的数据不要'''\n",
    "    coordinate = data[0:sample_length*100]\n",
    "    coordinate = coordinate.reshape(-1,100,3)\n",
    "    features = get_features_(coordinate)\n",
    "\n",
    "    print(f\"This file extract features shape is {coordinate.shape}\")\n",
    "    return coordinate\n",
    "\n",
    "\n",
    "def get_diff(ls):\n",
    "  diff = []\n",
    "  for index,data in enumerate(ls):\n",
    "    if index+1<len(ls):\n",
    "      diff.append(pairwise_distances(ls[index+1],ls[index],metric=\"euclidean\"))\n",
    "  return diff\n",
    "\n",
    "\n",
    "def get_features_(data):\n",
    "    '''\n",
    "    将文件分为100份，每一个坐标维度提取2个特征\n",
    "    返回一个100x6的矩阵\n",
    "    '''\n",
    "    feature = []\n",
    "    shape = data.shape\n",
    "    print(shape)#(57185, 4)\n",
    "    for shape0 in data:\n",
    "        feature.append(np.mean(shape0[:, 0]))\n",
    "        feature.append(np.var(shape0[:, 0]))\n",
    "        feature.append(np.mean(shape0[:, 1]))\n",
    "        feature.append(np.var(shape0[:, 1]))\n",
    "        feature.append(np.mean(shape0[:, 2]))\n",
    "        feature.append(np.var(shape0[:, 2]))\n",
    "\n",
    "    feature = np.array(feature).reshape(-1,6)\n",
    "    return feature\n",
    "\n",
    "def seconde(data):\n",
    "    Time = data[:,0]\n",
    "    Time = list(map(lambda x:int(str(x)[0:9]),Time))\n",
    "    pass\n",
    "\n",
    "def get_sampleFeatures_label(pos_file, neg_file):  # 传入正的文件夹，和负的文件夹\n",
    "    '''在用这个，传入pos 文件夹，neg文件夹自动返回对应的特征'''\n",
    "    all_features, all_labels = [], []\n",
    "\n",
    "    '''读取文件夹下的所以文件'''\n",
    "    for index, file in enumerate(os.listdir(pos_file)):\n",
    "        file = pos_file + r'/{}'.format(file)\n",
    "        data = pd.read_csv(file,delimiter=\"\\t\")\n",
    "        data =np.array(data)\n",
    "        coordinate = data[:,1:4]\n",
    "        Time = data[:,0]\n",
    "\n",
    "        all_features.append(get_features(data)) # 1000x6\n",
    "    print(f'pos_number is already done!')\n",
    "\n",
    "\n",
    "    for index, file in enumerate(os.listdir(neg_file)):\n",
    "        file = neg_file + r'/{}'.format(file)\n",
    "        data = pd.read_csv(file,delimiter=\"\\t\")\n",
    "        print(data.shape)\n",
    "        all_features.append(get_features(data)) # 1000x6\n",
    "    print(f'neg_number is already done!')\n",
    "\n",
    "\n",
    "\n",
    "    # for index, file in enumerate(os.listdir(neg_file)):  #\n",
    "    #     file = neg_file + r'/{}'.format(file)\n",
    "    #     img = cv2.imread(file, cv2.IMREAD_GRAYSCALE)\n",
    "    #     feature, glcm = get_glcm_sixFeature(img)\n",
    "    #\n",
    "    #     all_glcms.append(glcm)\n",
    "    #     all_features.append(feature)\n",
    "    #     all_labels.append(0)\n",
    "    #     number = number + 1\n",
    "    # '''重构维度'''\n",
    "    # shape = 1\n",
    "    # all_features =np.array(all_features)\n",
    "    #\n",
    "    # for i,data in enumerate(all_features.shape):\n",
    "    #     if i!=0:\n",
    "    #         shape = shape*data # 后面维度数字相乘\n",
    "    #\n",
    "    # print(all_features.shape)\n",
    "    # re_features=[]\n",
    "    # for data in all_features:\n",
    "    #     data = data.reshape(shape) # 1233 x72 x1 ->  1233x(72+)x1\n",
    "    #     re_features.append(data)\n",
    "    # re_features = np.array(re_features,dtype=np.float32)\n",
    "    #\n",
    "    # print(f'neg_number is{number}')\n",
    "    # return np.array(re_features, dtype=np.float32), np.array(all_labels), np.array(all_glcms, dtype=np.float32)"
   ],
   "metadata": {
    "collapsed": false,
    "pycharm": {
     "name": "#%%\n"
    }
   }
  },
  {
   "cell_type": "code",
   "execution_count": 16,
   "outputs": [
    {
     "ename": "ValueError",
     "evalue": "cannot reshape array of size 228400 into shape (100,3)",
     "output_type": "error",
     "traceback": [
      "\u001B[1;31m---------------------------------------------------------------------------\u001B[0m",
      "\u001B[1;31mValueError\u001B[0m                                Traceback (most recent call last)",
      "\u001B[1;32m<ipython-input-16-ac97337740e5>\u001B[0m in \u001B[0;36m<module>\u001B[1;34m\u001B[0m\n\u001B[0;32m      2\u001B[0m \u001B[0mneg_file\u001B[0m \u001B[1;33m=\u001B[0m \u001B[1;34m\"u002_w002\"\u001B[0m\u001B[1;33m\u001B[0m\u001B[1;33m\u001B[0m\u001B[0m\n\u001B[0;32m      3\u001B[0m \u001B[1;33m\u001B[0m\u001B[0m\n\u001B[1;32m----> 4\u001B[1;33m \u001B[0mget_sampleFeatures_label\u001B[0m\u001B[1;33m(\u001B[0m\u001B[0mpos_file\u001B[0m\u001B[1;33m,\u001B[0m\u001B[0mneg_file\u001B[0m\u001B[1;33m)\u001B[0m\u001B[1;33m\u001B[0m\u001B[1;33m\u001B[0m\u001B[0m\n\u001B[0m",
      "\u001B[1;32m<ipython-input-15-6b0ed2c6e031>\u001B[0m in \u001B[0;36mget_sampleFeatures_label\u001B[1;34m(pos_file, neg_file)\u001B[0m\n\u001B[0;32m     62\u001B[0m         \u001B[0mTime\u001B[0m \u001B[1;33m=\u001B[0m \u001B[0mdata\u001B[0m\u001B[1;33m[\u001B[0m\u001B[1;33m:\u001B[0m\u001B[1;33m,\u001B[0m\u001B[1;36m0\u001B[0m\u001B[1;33m]\u001B[0m\u001B[1;33m\u001B[0m\u001B[1;33m\u001B[0m\u001B[0m\n\u001B[0;32m     63\u001B[0m \u001B[1;33m\u001B[0m\u001B[0m\n\u001B[1;32m---> 64\u001B[1;33m         \u001B[0mall_features\u001B[0m\u001B[1;33m.\u001B[0m\u001B[0mappend\u001B[0m\u001B[1;33m(\u001B[0m\u001B[0mget_features\u001B[0m\u001B[1;33m(\u001B[0m\u001B[0mdata\u001B[0m\u001B[1;33m)\u001B[0m\u001B[1;33m)\u001B[0m \u001B[1;31m# 1000x6\u001B[0m\u001B[1;33m\u001B[0m\u001B[1;33m\u001B[0m\u001B[0m\n\u001B[0m\u001B[0;32m     65\u001B[0m     \u001B[0mprint\u001B[0m\u001B[1;33m(\u001B[0m\u001B[1;34mf'pos_number is already done!'\u001B[0m\u001B[1;33m)\u001B[0m\u001B[1;33m\u001B[0m\u001B[1;33m\u001B[0m\u001B[0m\n\u001B[0;32m     66\u001B[0m \u001B[1;33m\u001B[0m\u001B[0m\n",
      "\u001B[1;32m<ipython-input-15-6b0ed2c6e031>\u001B[0m in \u001B[0;36mget_features\u001B[1;34m(data)\u001B[0m\n\u001B[0;32m     11\u001B[0m     \u001B[1;34m'''多的数据不要'''\u001B[0m\u001B[1;33m\u001B[0m\u001B[1;33m\u001B[0m\u001B[0m\n\u001B[0;32m     12\u001B[0m     \u001B[0mcoordinate\u001B[0m \u001B[1;33m=\u001B[0m \u001B[0mdata\u001B[0m\u001B[1;33m[\u001B[0m\u001B[1;36m0\u001B[0m\u001B[1;33m:\u001B[0m\u001B[0msample_length\u001B[0m\u001B[1;33m*\u001B[0m\u001B[1;36m100\u001B[0m\u001B[1;33m]\u001B[0m\u001B[1;33m\u001B[0m\u001B[1;33m\u001B[0m\u001B[0m\n\u001B[1;32m---> 13\u001B[1;33m     \u001B[0mcoordinate\u001B[0m \u001B[1;33m=\u001B[0m \u001B[0mcoordinate\u001B[0m\u001B[1;33m.\u001B[0m\u001B[0mreshape\u001B[0m\u001B[1;33m(\u001B[0m\u001B[1;33m-\u001B[0m\u001B[1;36m1\u001B[0m\u001B[1;33m,\u001B[0m\u001B[1;36m100\u001B[0m\u001B[1;33m,\u001B[0m\u001B[1;36m3\u001B[0m\u001B[1;33m)\u001B[0m\u001B[1;33m\u001B[0m\u001B[1;33m\u001B[0m\u001B[0m\n\u001B[0m\u001B[0;32m     14\u001B[0m     \u001B[0mfeatures\u001B[0m \u001B[1;33m=\u001B[0m \u001B[0mget_features_\u001B[0m\u001B[1;33m(\u001B[0m\u001B[0mcoordinate\u001B[0m\u001B[1;33m)\u001B[0m\u001B[1;33m\u001B[0m\u001B[1;33m\u001B[0m\u001B[0m\n\u001B[0;32m     15\u001B[0m \u001B[1;33m\u001B[0m\u001B[0m\n",
      "\u001B[1;31mValueError\u001B[0m: cannot reshape array of size 228400 into shape (100,3)"
     ]
    }
   ],
   "source": [
    "pos_file = \"u002_w001\"\n",
    "neg_file = \"u002_w002\"\n",
    "\n",
    "get_sampleFeatures_label(pos_file,neg_file)"
   ],
   "metadata": {
    "collapsed": false,
    "pycharm": {
     "name": "#%%\n"
    }
   }
  }
 ],
 "metadata": {
  "kernelspec": {
   "display_name": "Python 3",
   "language": "python",
   "name": "python3"
  },
  "language_info": {
   "codemirror_mode": {
    "name": "ipython",
    "version": 2
   },
   "file_extension": ".py",
   "mimetype": "text/x-python",
   "name": "python",
   "nbconvert_exporter": "python",
   "pygments_lexer": "ipython2",
   "version": "2.7.6"
  }
 },
 "nbformat": 4,
 "nbformat_minor": 0
}