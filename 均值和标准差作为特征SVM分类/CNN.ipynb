{
 "cells": [
  {
   "cell_type": "code",
   "execution_count": 52,
   "metadata": {
    "collapsed": true
   },
   "outputs": [],
   "source": [
    "\n",
    "import numpy as np\n",
    "import math\n",
    "from matplotlib.pylab import mpl\n",
    "from MyUtils import *\n",
    "import torch\n",
    "from Model import CNN\n",
    "from sklearn.model_selection import train_test_split\n",
    "import torch.nn as nn\n",
    "import torch.nn.functional as F #非线性函数在的地方"
   ]
  },
  {
   "cell_type": "code",
   "execution_count": 53,
   "outputs": [],
   "source": [
    "mpl.rcParams['font.sans-serif'] = ['SimHei']   #显示中文\n",
    "mpl.rcParams['axes.unicode_minus']=False       #显示负号"
   ],
   "metadata": {
    "collapsed": false,
    "pycharm": {
     "name": "#%%\n"
    }
   }
  },
  {
   "cell_type": "markdown",
   "source": [
    "获取数据"
   ],
   "metadata": {
    "collapsed": false,
    "pycharm": {
     "name": "#%% md\n"
    }
   }
  },
  {
   "cell_type": "code",
   "execution_count": 54,
   "outputs": [
    {
     "name": "stdout",
     "output_type": "stream",
     "text": [
      "(319, 3, 2)\n",
      "(322, 3, 2)\n",
      "(529, 3, 2)\n",
      "(322, 3, 2)\n",
      "(159, 3, 2)\n",
      "(322, 3, 2)\n",
      "pos_features (1973, 3, 2), pos_labels is (1973,)\n",
      "all_features shape is (6468, 3, 2), neg_labels is (4495,)\n",
      "特征维度为：(6468, 3, 2),标签维度为：(6468,)\n",
      "(282, 3, 2)\n",
      "(285, 3, 2)\n",
      "(466, 3, 2)\n",
      "(285, 3, 2)\n",
      "(141, 3, 2)\n",
      "(285, 3, 2)\n",
      "pos_features (1744, 3, 2), pos_labels is (1744,)\n",
      "all_features shape is (7380, 3, 2), neg_labels is (5636,)\n",
      "特征维度为：(7380, 3, 2),标签维度为：(7380,)\n",
      "(302, 3, 2)\n",
      "(305, 3, 2)\n",
      "(499, 3, 2)\n",
      "(305, 3, 2)\n",
      "(151, 3, 2)\n",
      "(305, 3, 2)\n",
      "pos_features (1867, 3, 2), pos_labels is (1867,)\n",
      "all_features shape is (6357, 3, 2), neg_labels is (4490,)\n",
      "特征维度为：(6357, 3, 2),标签维度为：(6357,)\n",
      "(20205,)\n",
      "(20205, 3, 2) (20205,)\n"
     ]
    }
   ],
   "source": [
    "pos_files = [\"u001_w001\", \"u001_w002\", \"u001_w003\"]\n",
    "neg_files = [\"u002_w001\", \"u002_w002\", \"u002_w003\"]\n",
    "files = zip(pos_files, neg_files)\n",
    "\n",
    "\n",
    "for index, (pos_file, neg_file) in enumerate(files):\n",
    "    if index == 0:\n",
    "        features, labels = CNN_row_dataTarget(pos_file, neg_file,sample_size=100)\n",
    "        all_features = features\n",
    "        all_labels = labels\n",
    "\n",
    "\n",
    "    else:\n",
    "        features, labels = CNN_row_dataTarget(pos_file, neg_file,sample_size=100)\n",
    "        all_features = np.concatenate((all_features, features), axis=0)\n",
    "        all_labels = np.concatenate((all_labels, labels), axis=0)\n",
    "\n",
    "features = all_features\n",
    "labels = all_labels\n",
    "print(labels.shape)\n",
    "features = features.astype(np.float32)\n",
    "print(features.shape, labels.shape)"
   ],
   "metadata": {
    "collapsed": false,
    "pycharm": {
     "name": "#%%\n"
    }
   }
  },
  {
   "cell_type": "code",
   "execution_count": 55,
   "outputs": [],
   "source": [
    "model = CNN()\n",
    "batch_size = 15\n",
    "loss_func = torch.nn.CrossEntropyLoss()\n",
    "opt = torch.optim.Adam(model.parameters(),lr=0.001)"
   ],
   "metadata": {
    "collapsed": false,
    "pycharm": {
     "name": "#%%\n"
    }
   }
  },
  {
   "cell_type": "code",
   "execution_count": 56,
   "outputs": [
    {
     "name": "stdout",
     "output_type": "stream",
     "text": [
      "torch.Size([20205, 3]) torch.Size([20205])\n",
      "torch.Size([15, 1347, 3]) torch.Size([15, 1347])\n"
     ]
    }
   ],
   "source": [
    "features ,labels= torch.Tensor(features[:,:,0]),torch.Tensor(labels)\n",
    "print(features.shape,labels.shape)\n",
    "features, labels = features.reshape(batch_size,-1,3),labels.reshape(batch_size,-1)\n",
    "print(features.shape,labels.shape)\n",
    "xTrain, xTest, yTrain, yTest = train_test_split(features,labels,test_size=0.3,random_state=222)"
   ],
   "metadata": {
    "collapsed": false,
    "pycharm": {
     "name": "#%%\n"
    }
   }
  },
  {
   "cell_type": "code",
   "execution_count": 57,
   "outputs": [
    {
     "ename": "RuntimeError",
     "evalue": "Expected 4-dimensional input for 4-dimensional weight[64, 3, 3, 3], but got 2-dimensional input of size [1347, 3] instead",
     "output_type": "error",
     "traceback": [
      "\u001B[1;31m---------------------------------------------------------------------------\u001B[0m",
      "\u001B[1;31mRuntimeError\u001B[0m                              Traceback (most recent call last)",
      "\u001B[1;32m<ipython-input-57-48b05440f61e>\u001B[0m in \u001B[0;36m<module>\u001B[1;34m\u001B[0m\n\u001B[0;32m      6\u001B[0m         \u001B[0mbatch_y\u001B[0m \u001B[1;33m=\u001B[0m \u001B[0my\u001B[0m \u001B[1;31m# torch.Size([128])\u001B[0m\u001B[1;33m\u001B[0m\u001B[1;33m\u001B[0m\u001B[0m\n\u001B[0;32m      7\u001B[0m         \u001B[1;31m# 获取最后输出\u001B[0m\u001B[1;33m\u001B[0m\u001B[1;33m\u001B[0m\u001B[1;33m\u001B[0m\u001B[0m\n\u001B[1;32m----> 8\u001B[1;33m         \u001B[0mout\u001B[0m \u001B[1;33m=\u001B[0m \u001B[0mmodel\u001B[0m\u001B[1;33m.\u001B[0m\u001B[0mforward\u001B[0m\u001B[1;33m(\u001B[0m\u001B[0mbatch_x\u001B[0m\u001B[1;33m)\u001B[0m \u001B[1;31m# torch.Size([128,10])\u001B[0m\u001B[1;33m\u001B[0m\u001B[1;33m\u001B[0m\u001B[0m\n\u001B[0m\u001B[0;32m      9\u001B[0m         \u001B[1;31m# 获取损失\u001B[0m\u001B[1;33m\u001B[0m\u001B[1;33m\u001B[0m\u001B[1;33m\u001B[0m\u001B[0m\n\u001B[0;32m     10\u001B[0m         \u001B[0mloss\u001B[0m \u001B[1;33m=\u001B[0m \u001B[0mloss_func\u001B[0m\u001B[1;33m(\u001B[0m\u001B[0mout\u001B[0m\u001B[1;33m,\u001B[0m\u001B[0mbatch_y\u001B[0m\u001B[1;33m)\u001B[0m\u001B[1;33m\u001B[0m\u001B[1;33m\u001B[0m\u001B[0m\n",
      "\u001B[1;32mD:\\_Datasets\\均值和标准差作为特征SVM分类\\Model.py\u001B[0m in \u001B[0;36mforward\u001B[1;34m(self, input)\u001B[0m\n\u001B[0;32m     35\u001B[0m         \u001B[0mtemp\u001B[0m  \u001B[1;33m=\u001B[0m \u001B[0mself\u001B[0m\u001B[1;33m.\u001B[0m\u001B[0mrelu\u001B[0m\u001B[1;33m(\u001B[0m\u001B[0mself\u001B[0m\u001B[1;33m.\u001B[0m\u001B[0mconv1\u001B[0m\u001B[1;33m(\u001B[0m\u001B[0minput\u001B[0m\u001B[1;33m)\u001B[0m\u001B[1;33m)\u001B[0m \u001B[1;31m#244x244\u001B[0m\u001B[1;33m\u001B[0m\u001B[1;33m\u001B[0m\u001B[0m\n\u001B[0;32m     36\u001B[0m         \u001B[0mtemp\u001B[0m  \u001B[1;33m=\u001B[0m \u001B[0mself\u001B[0m\u001B[1;33m.\u001B[0m\u001B[0mrelu\u001B[0m\u001B[1;33m(\u001B[0m\u001B[0mself\u001B[0m\u001B[1;33m.\u001B[0m\u001B[0mconv2\u001B[0m\u001B[1;33m(\u001B[0m\u001B[0mtemp\u001B[0m\u001B[1;33m)\u001B[0m\u001B[1;33m)\u001B[0m\u001B[1;33m\u001B[0m\u001B[1;33m\u001B[0m\u001B[0m\n\u001B[1;32m---> 37\u001B[1;33m         \u001B[0mtemp\u001B[0m  \u001B[1;33m=\u001B[0m \u001B[0mself\u001B[0m\u001B[1;33m.\u001B[0m\u001B[0mmaxpool\u001B[0m\u001B[1;33m(\u001B[0m\u001B[0mtemp\u001B[0m\u001B[1;33m)\u001B[0m \u001B[1;31m# (M-K+2p)/S+1  （244-2）/2+1 =122  此时图片大小 122x122\u001B[0m\u001B[1;33m\u001B[0m\u001B[1;33m\u001B[0m\u001B[0m\n\u001B[0m\u001B[0;32m     38\u001B[0m         \u001B[0mtemp\u001B[0m  \u001B[1;33m=\u001B[0m \u001B[0mself\u001B[0m\u001B[1;33m.\u001B[0m\u001B[0mrelu\u001B[0m\u001B[1;33m(\u001B[0m\u001B[0mself\u001B[0m\u001B[1;33m.\u001B[0m\u001B[0mconv3\u001B[0m\u001B[1;33m(\u001B[0m\u001B[0mtemp\u001B[0m\u001B[1;33m)\u001B[0m\u001B[1;33m)\u001B[0m\u001B[1;33m\u001B[0m\u001B[1;33m\u001B[0m\u001B[0m\n\u001B[0;32m     39\u001B[0m         \u001B[0mtemp\u001B[0m  \u001B[1;33m=\u001B[0m \u001B[0mself\u001B[0m\u001B[1;33m.\u001B[0m\u001B[0mrelu\u001B[0m\u001B[1;33m(\u001B[0m\u001B[0mself\u001B[0m\u001B[1;33m.\u001B[0m\u001B[0mconv4\u001B[0m\u001B[1;33m(\u001B[0m\u001B[0mtemp\u001B[0m\u001B[1;33m)\u001B[0m\u001B[1;33m)\u001B[0m\u001B[1;33m\u001B[0m\u001B[1;33m\u001B[0m\u001B[0m\n",
      "\u001B[1;32mE:\\anaconda\\envs\\notebook\\lib\\site-packages\\torch\\nn\\modules\\module.py\u001B[0m in \u001B[0;36m_call_impl\u001B[1;34m(self, *input, **kwargs)\u001B[0m\n\u001B[0;32m   1100\u001B[0m         if not (self._backward_hooks or self._forward_hooks or self._forward_pre_hooks or _global_backward_hooks\n\u001B[0;32m   1101\u001B[0m                 or _global_forward_hooks or _global_forward_pre_hooks):\n\u001B[1;32m-> 1102\u001B[1;33m             \u001B[1;32mreturn\u001B[0m \u001B[0mforward_call\u001B[0m\u001B[1;33m(\u001B[0m\u001B[1;33m*\u001B[0m\u001B[0minput\u001B[0m\u001B[1;33m,\u001B[0m \u001B[1;33m**\u001B[0m\u001B[0mkwargs\u001B[0m\u001B[1;33m)\u001B[0m\u001B[1;33m\u001B[0m\u001B[1;33m\u001B[0m\u001B[0m\n\u001B[0m\u001B[0;32m   1103\u001B[0m         \u001B[1;31m# Do not call functions when jit is used\u001B[0m\u001B[1;33m\u001B[0m\u001B[1;33m\u001B[0m\u001B[1;33m\u001B[0m\u001B[0m\n\u001B[0;32m   1104\u001B[0m         \u001B[0mfull_backward_hooks\u001B[0m\u001B[1;33m,\u001B[0m \u001B[0mnon_full_backward_hooks\u001B[0m \u001B[1;33m=\u001B[0m \u001B[1;33m[\u001B[0m\u001B[1;33m]\u001B[0m\u001B[1;33m,\u001B[0m \u001B[1;33m[\u001B[0m\u001B[1;33m]\u001B[0m\u001B[1;33m\u001B[0m\u001B[1;33m\u001B[0m\u001B[0m\n",
      "\u001B[1;32mE:\\anaconda\\envs\\notebook\\lib\\site-packages\\torch\\nn\\modules\\conv.py\u001B[0m in \u001B[0;36mforward\u001B[1;34m(self, input)\u001B[0m\n\u001B[0;32m    299\u001B[0m \u001B[1;33m\u001B[0m\u001B[0m\n\u001B[0;32m    300\u001B[0m     \u001B[1;32mdef\u001B[0m \u001B[0mforward\u001B[0m\u001B[1;33m(\u001B[0m\u001B[0mself\u001B[0m\u001B[1;33m,\u001B[0m \u001B[0minput\u001B[0m\u001B[1;33m:\u001B[0m \u001B[0mTensor\u001B[0m\u001B[1;33m)\u001B[0m \u001B[1;33m->\u001B[0m \u001B[0mTensor\u001B[0m\u001B[1;33m:\u001B[0m\u001B[1;33m\u001B[0m\u001B[1;33m\u001B[0m\u001B[0m\n\u001B[1;32m--> 301\u001B[1;33m         \u001B[1;32mreturn\u001B[0m \u001B[0mself\u001B[0m\u001B[1;33m.\u001B[0m\u001B[0m_conv_forward\u001B[0m\u001B[1;33m(\u001B[0m\u001B[0minput\u001B[0m\u001B[1;33m,\u001B[0m \u001B[0mself\u001B[0m\u001B[1;33m.\u001B[0m\u001B[0mweight\u001B[0m\u001B[1;33m,\u001B[0m \u001B[0mself\u001B[0m\u001B[1;33m.\u001B[0m\u001B[0mbias\u001B[0m\u001B[1;33m)\u001B[0m\u001B[1;33m\u001B[0m\u001B[1;33m\u001B[0m\u001B[0m\n\u001B[0m\u001B[0;32m    302\u001B[0m \u001B[1;33m\u001B[0m\u001B[0m\n\u001B[0;32m    303\u001B[0m \u001B[1;33m\u001B[0m\u001B[0m\n",
      "\u001B[1;32mE:\\anaconda\\envs\\notebook\\lib\\site-packages\\torch\\nn\\modules\\conv.py\u001B[0m in \u001B[0;36m_conv_forward\u001B[1;34m(self, input, weight, bias)\u001B[0m\n\u001B[0;32m    296\u001B[0m                             _single(0), self.dilation, self.groups)\n\u001B[0;32m    297\u001B[0m         return F.conv1d(input, weight, bias, self.stride,\n\u001B[1;32m--> 298\u001B[1;33m                         self.padding, self.dilation, self.groups)\n\u001B[0m\u001B[0;32m    299\u001B[0m \u001B[1;33m\u001B[0m\u001B[0m\n\u001B[0;32m    300\u001B[0m     \u001B[1;32mdef\u001B[0m \u001B[0mforward\u001B[0m\u001B[1;33m(\u001B[0m\u001B[0mself\u001B[0m\u001B[1;33m,\u001B[0m \u001B[0minput\u001B[0m\u001B[1;33m:\u001B[0m \u001B[0mTensor\u001B[0m\u001B[1;33m)\u001B[0m \u001B[1;33m->\u001B[0m \u001B[0mTensor\u001B[0m\u001B[1;33m:\u001B[0m\u001B[1;33m\u001B[0m\u001B[1;33m\u001B[0m\u001B[0m\n",
      "\u001B[1;31mRuntimeError\u001B[0m: Expected 4-dimensional input for 4-dimensional weight[64, 3, 3, 3], but got 2-dimensional input of size [1347, 3] instead"
     ]
    }
   ],
   "source": [
    "loss_count = []\n",
    "for epoch in range(20):\n",
    "    for i,(x,y) in enumerate(zip(xTrain,yTrain)):\n",
    "        model.zero_grad()\n",
    "        batch_x = x # torch.Size([128, 1, 28, 28])\n",
    "        batch_y = y # torch.Size([128])\n",
    "        # 获取最后输出\n",
    "        out = model.forward(batch_x) # torch.Size([128,10])\n",
    "        # 获取损失\n",
    "        loss = loss_func(out,batch_y)\n",
    "        # 使用优化器优化损失\n",
    "        opt.zero_grad()  # 清空上一步残余更新参数值\n",
    "        loss.backward() # 误差反向传播，计算参数更新值\n",
    "        opt.step() # 将参数更新值施加到net的parmeters上\n",
    "        if i%20 == 0:\n",
    "            loss_count.append(loss)\n",
    "            print('{}:\\t'.format(i), loss.item())\n",
    "            torch.save(model,r'C:\\Users\\liev\\Desktop\\myproject\\yin_test\\log_CNN')\n",
    "        if i % 100 == 0:\n",
    "            for a,b in (xTest,yTest):\n",
    "                test_x = a\n",
    "                test_y = b\n",
    "                out = model(test_x)\n",
    "                # print('test_out:\\t',torch.max(out,1)[1])\n",
    "                # print('test_y:\\t',test_y)\n",
    "                accuracy = torch.max(out,1)[1].numpy() == test_y.numpy()\n",
    "                print('accuracy:\\t',accuracy.mean())\n",
    "                break\n",
    "\n",
    "\n",
    "plt.figure('PyTorch_CNN_Loss')\n",
    "plt.plot(loss_count,label='Loss')\n",
    "plt.legend()\n",
    "plt.show()\n"
   ],
   "metadata": {
    "collapsed": false,
    "pycharm": {
     "name": "#%%\n"
    }
   }
  }
 ],
 "metadata": {
  "kernelspec": {
   "display_name": "Python 3",
   "language": "python",
   "name": "python3"
  },
  "language_info": {
   "codemirror_mode": {
    "name": "ipython",
    "version": 2
   },
   "file_extension": ".py",
   "mimetype": "text/x-python",
   "name": "python",
   "nbconvert_exporter": "python",
   "pygments_lexer": "ipython2",
   "version": "2.7.6"
  }
 },
 "nbformat": 4,
 "nbformat_minor": 0
}